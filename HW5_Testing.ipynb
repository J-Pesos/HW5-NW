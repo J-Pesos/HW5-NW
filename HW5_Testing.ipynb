{
 "cells": [
  {
   "cell_type": "code",
   "execution_count": 1,
   "id": "98113b68",
   "metadata": {
    "scrolled": true
   },
   "outputs": [],
   "source": [
    "%load_ext autoreload\n",
    "%autoreload 2"
   ]
  },
  {
   "cell_type": "code",
   "execution_count": 2,
   "id": "b9c343fe",
   "metadata": {},
   "outputs": [],
   "source": [
    "%reload_ext autoreload"
   ]
  },
  {
   "cell_type": "code",
   "execution_count": 3,
   "id": "f29fe2a4",
   "metadata": {},
   "outputs": [],
   "source": [
    "from align import (\n",
    "    NeedlemanWunsch,\n",
    "    read_fasta)\n",
    "import numpy as np\n",
    "from typing import Tuple"
   ]
  },
  {
   "cell_type": "code",
   "execution_count": 4,
   "id": "d87c0b5c",
   "metadata": {
    "scrolled": true
   },
   "outputs": [
    {
     "name": "stdout",
     "output_type": "stream",
     "text": [
      ">test seq 1 >test seq 2 >test seq 3 >test seq 4\n"
     ]
    },
    {
     "data": {
      "text/plain": [
       "('MYQR', 'MQR', 'MAVHQLIRRP', 'MQLIRHP')"
      ]
     },
     "execution_count": 4,
     "metadata": {},
     "output_type": "execute_result"
    }
   ],
   "source": [
    "seq1, h1 = read_fasta(\"./data/test_seq1.fa\")\n",
    "seq2, h2 = read_fasta(\"./data/test_seq2.fa\")\n",
    "seq3, h3 = read_fasta(\"./data/test_seq3.fa\")\n",
    "seq4, h4 = read_fasta(\"./data/test_seq4.fa\")\n",
    "\n",
    "print(h1, h2, h3, h4)\n",
    "seq1, seq2, seq3, seq4"
   ]
  },
  {
   "cell_type": "code",
   "execution_count": 5,
   "id": "3e3f5acb",
   "metadata": {},
   "outputs": [],
   "source": [
    "len_seqA = len(seq1)\n",
    "len_seqB = len(seq2)"
   ]
  },
  {
   "cell_type": "code",
   "execution_count": 6,
   "id": "d5053ae1",
   "metadata": {
    "scrolled": false
   },
   "outputs": [
    {
     "data": {
      "text/plain": [
       "array([[-inf, -inf, -inf, -inf],\n",
       "       [-inf, -inf, -inf, -inf],\n",
       "       [-inf, -inf, -inf, -inf],\n",
       "       [-inf, -inf, -inf, -inf],\n",
       "       [-inf, -inf, -inf, -inf]])"
      ]
     },
     "execution_count": 6,
     "metadata": {},
     "output_type": "execute_result"
    }
   ],
   "source": [
    "align_matrix = np.full( (len_seqA + 1, len_seqB + 1), -np.inf)\n",
    "gapA_matrix = np.full( (len_seqA + 1, len_seqB + 1), -np.inf)\n",
    "gapB_matrix = np.full( (len_seqA + 1, len_seqB + 1), -np.inf)\n",
    "\n",
    "align_matrix"
   ]
  },
  {
   "cell_type": "code",
   "execution_count": 7,
   "id": "3e46d675",
   "metadata": {},
   "outputs": [],
   "source": [
    "test_NW = NeedlemanWunsch(sub_matrix_file = \"./substitution_matrices/BLOSUM62.mat\", gap_open = -10, gap_extend = -1)"
   ]
  },
  {
   "cell_type": "code",
   "execution_count": 8,
   "id": "6e48c723",
   "metadata": {
    "scrolled": true
   },
   "outputs": [
    {
     "data": {
      "text/plain": [
       "array([[  0., -inf, -inf, -inf],\n",
       "       [-inf, -inf, -inf, -inf],\n",
       "       [-inf, -inf, -inf, -inf],\n",
       "       [-inf, -inf, -inf, -inf],\n",
       "       [-inf, -inf, -inf, -inf]])"
      ]
     },
     "execution_count": 8,
     "metadata": {},
     "output_type": "execute_result"
    }
   ],
   "source": [
    "align_matrix[0, 0] = 0\n",
    "gapA_matrix[:, 0] = [test_NW.gap_open + i * test_NW.gap_extend for i in range(len_seqA + 1)]\n",
    "gapB_matrix[0, :] = [test_NW.gap_open + i * test_NW.gap_extend for i in range(len_seqB + 1)]\n",
    "\n",
    "align_matrix"
   ]
  },
  {
   "cell_type": "code",
   "execution_count": 9,
   "id": "930b21d6",
   "metadata": {
    "scrolled": true
   },
   "outputs": [
    {
     "data": {
      "text/plain": [
       "array([[-10., -inf, -inf, -inf],\n",
       "       [-11., -inf, -inf, -inf],\n",
       "       [-12., -inf, -inf, -inf],\n",
       "       [-13., -inf, -inf, -inf],\n",
       "       [-14., -inf, -inf, -inf]])"
      ]
     },
     "execution_count": 9,
     "metadata": {},
     "output_type": "execute_result"
    }
   ],
   "source": [
    "gapA_matrix"
   ]
  },
  {
   "cell_type": "code",
   "execution_count": 10,
   "id": "b951485d",
   "metadata": {
    "scrolled": true
   },
   "outputs": [
    {
     "data": {
      "text/plain": [
       "array([[-10., -11., -12., -13.],\n",
       "       [-inf, -inf, -inf, -inf],\n",
       "       [-inf, -inf, -inf, -inf],\n",
       "       [-inf, -inf, -inf, -inf],\n",
       "       [-inf, -inf, -inf, -inf]])"
      ]
     },
     "execution_count": 10,
     "metadata": {},
     "output_type": "execute_result"
    }
   ],
   "source": [
    "gapB_matrix"
   ]
  },
  {
   "cell_type": "code",
   "execution_count": 13,
   "id": "168dbd6d",
   "metadata": {},
   "outputs": [
    {
     "name": "stdout",
     "output_type": "stream",
     "text": [
      "Align v3.2\n",
      "Backtrace v2\n"
     ]
    },
    {
     "data": {
      "text/plain": [
       "(4.0, 'MYQR', 'M-QR')"
      ]
     },
     "execution_count": 13,
     "metadata": {},
     "output_type": "execute_result"
    }
   ],
   "source": [
    "test_NW.align('MYQR','MQR')"
   ]
  },
  {
   "cell_type": "code",
   "execution_count": null,
   "id": "12f43fa4",
   "metadata": {},
   "outputs": [],
   "source": [
    "test_NW.align()"
   ]
  },
  {
   "cell_type": "code",
   "execution_count": 15,
   "id": "836a9e0d",
   "metadata": {},
   "outputs": [],
   "source": [
    "from main import main"
   ]
  },
  {
   "cell_type": "code",
   "execution_count": 22,
   "id": "6c635425",
   "metadata": {},
   "outputs": [
    {
     "name": "stdout",
     "output_type": "stream",
     "text": [
      "Main v6\n",
      "[(3173.0, 'Gallus gallus'), (3682.0, 'Mus musculus'), (2941.0, 'Balaeniceps rex'), (3916.0, 'tursiops truncatus')]\n",
      "List of species in order of most similar to human BRD2 sequence.\n",
      "['tursiops truncatus', 'Mus musculus', 'Gallus gallus', 'Balaeniceps rex']\n",
      "List of alignment scores and what sequence was aligned to human BRD2 sequence.\n",
      "[(3916.0, 'tursiops truncatus'), (3682.0, 'Mus musculus'), (3173.0, 'Gallus gallus'), (2941.0, 'Balaeniceps rex')]\n"
     ]
    }
   ],
   "source": [
    "main()"
   ]
  }
 ],
 "metadata": {
  "kernelspec": {
   "display_name": "Python 3 (ipykernel)",
   "language": "python",
   "name": "python3"
  },
  "language_info": {
   "codemirror_mode": {
    "name": "ipython",
    "version": 3
   },
   "file_extension": ".py",
   "mimetype": "text/x-python",
   "name": "python",
   "nbconvert_exporter": "python",
   "pygments_lexer": "ipython3",
   "version": "3.10.8"
  }
 },
 "nbformat": 4,
 "nbformat_minor": 5
}
